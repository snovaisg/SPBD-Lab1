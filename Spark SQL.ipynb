{
 "cells": [
  {
   "cell_type": "markdown",
   "metadata": {},
   "source": [
    "The cell below is just for creating paths"
   ]
  },
  {
   "cell_type": "code",
   "execution_count": 2,
   "metadata": {},
   "outputs": [],
   "source": [
    "import os\n",
    "import shutil\n",
    "\n",
    "# General Purpose Paths\n",
    "data_small_path = os.path.join('data','data_small.csv')\n",
    "data_big_path = os.path.join('data','data_big.csv')\n",
    "results_path = 'results'\n",
    "\n",
    "# Ex1 - Paths\n",
    "output_sql_ex1_path = os.path.join(results_path,'Ex1_SQL.csv')\n",
    "# Ex2 - Paths\n",
    "output_sql_ex2_path = os.path.join(results_path,'Ex2_SQL.csv')\n",
    "# Ex3 - Paths\n",
    "output_sql_ex3_path = os.path.join(results_path,'Ex3_SQL.csv')\n",
    "\n",
    "# Create result directory from scratch\n",
    "if not os.path.exists(results_path):\n",
    "    os.makedirs(results_path)"
   ]
  },
  {
   "cell_type": "markdown",
   "metadata": {},
   "source": [
    "# Exercise 1\n",
    "\n",
    "Create an inverted index with the following structure:\n",
    "\n",
    "- Continent - Count of occurences"
   ]
  },
  {
   "cell_type": "code",
   "execution_count": 5,
   "metadata": {},
   "outputs": [
    {
     "name": "stdout",
     "output_type": "stream",
     "text": [
      "CPU times: user 60 ms, sys: 40 ms, total: 100 ms\n",
      "Wall time: 21.8 s\n"
     ]
    }
   ],
   "source": [
    "%%time\n",
    "from pyspark.sql import Row, SparkSession\n",
    "from IPython.display import display\n",
    "\n",
    "spark = SparkSession.builder.master('local[*]').appName('Ex1').getOrCreate()\n",
    "sc = spark.sparkContext\n",
    "\n",
    "try :\n",
    "    lines = sc.textFile(data_big_path)\n",
    "    continent_occurences = lines.map( lambda line : line.split(',') ) \\\n",
    "                   .map( lambda arr : Row( continent = arr[5], occurences = int(arr[9])))\n",
    "    continent_occurences_df = spark.createDataFrame( continent_occurences )\n",
    "    continent_occurences_df.createOrReplaceTempView(\"continents\")\n",
    "    \n",
    "    query = (\"SELECT continent,SUM(occurences) as n_occurences from continents \"\n",
    "             \"Group by continent\")\n",
    "    InvIdxContinentOccurencesDF = spark.sql(query)\n",
    "    InvIdxContinentOccurencesDF.toPandas().to_csv(output_sql_ex1_path,index=False)\n",
    "    sc.stop()\n",
    "except:\n",
    "    print(err)\n",
    "    sc.stop()\n",
    "\n",
    "\n"
   ]
  },
  {
   "cell_type": "markdown",
   "metadata": {},
   "source": [
    "# Exercise 2\n",
    "\n",
    "Create an inverted index with the following structure:\n",
    "- disaster_type : regions"
   ]
  },
  {
   "cell_type": "code",
   "execution_count": 7,
   "metadata": {},
   "outputs": [
    {
     "name": "stdout",
     "output_type": "stream",
     "text": [
      "CPU times: user 50 ms, sys: 30 ms, total: 80 ms\n",
      "Wall time: 23.4 s\n"
     ]
    }
   ],
   "source": [
    "%%time\n",
    "from pyspark.sql import Row, SparkSession\n",
    "from IPython.display import display\n",
    "\n",
    "spark = SparkSession.builder.master('local[*]').appName('Ex2').getOrCreate()\n",
    "sc = spark.sparkContext\n",
    "\n",
    "try :\n",
    "    lines = sc.textFile(data_big_path)\n",
    "    disasters = lines.map( lambda line : line.split(',') ) \\\n",
    "                   .map( lambda arr : Row( disaster = arr[3], region = arr[6]))\n",
    "    disasterDF = spark.createDataFrame(disasters)\n",
    "    disasterDF.createOrReplaceTempView(\"disasters\")\n",
    "    \n",
    "    query = (\"SELECT disaster, collect_set(region) as regions from disasters \"\n",
    "             \"Group by disaster\")\n",
    "    InvIdxDisasterRegionDF = spark.sql(query)\n",
    "    InvIdxDisasterRegionDF.toPandas().to_csv(output_sql_ex2_path,index=False)\n",
    "    sc.stop()\n",
    "except:\n",
    "    print(err)\n",
    "    sc.stop()"
   ]
  },
  {
   "cell_type": "markdown",
   "metadata": {},
   "source": [
    "# Exercise 3\n",
    "\n",
    "Using an inverted index, solve: <br>\n",
    "\n",
    "What are the probabilities of getting injured or dying in a natural disaster of type T in the continent C\n",
    "during decade D"
   ]
  },
  {
   "cell_type": "code",
   "execution_count": 11,
   "metadata": {},
   "outputs": [],
   "source": [
    "from pyspark.sql import *\n",
    "from pyspark.sql.types import *\n",
    "from pyspark.sql.functions import *\n",
    "from pyspark.sql.functions import udf\n",
    "import pandas as pd\n",
    "\n",
    "\n",
    "def fillaffected(inj,death,affected):\n",
    "    if float(affected)<float(inj)+float(death):\n",
    "        affected=float(inj)+float(death)\n",
    "    return affected\n",
    "\n",
    "def fillnan(x):\n",
    "    if x==\"\":\n",
    "        return 0\n",
    "    else:\n",
    "        return x\n",
    "\n",
    "spark = SparkSession.builder.master('local[*]').appName('Ex3').getOrCreate()\n",
    "sc = spark.sparkContext\n",
    "spark.udf.register(\"fillaffected\",fillaffected)\n",
    "spark.udf.register(\"fillnan\",fillnan)\n",
    "try :\n",
    "    lines = sc.textFile(data_big_path)\n",
    "    \n",
    "    data = lines.filter( lambda line : len(line) > 0 )   \\\n",
    "                        .map( lambda line : line.split(',') ) \\\n",
    "                        .map( lambda arr : Row( dec = arr[0][:-1]+'0', DT = arr[3], continent = arr[5], \\\n",
    "                                               inj = arr[11], deaths = arr[10], affected = arr[14]))\n",
    "    DF = spark.createDataFrame( data )\n",
    "    \n",
    "    DF.createOrReplaceTempView(\"ini\")\n",
    "    \n",
    "    DF=spark.sql(\"select DT,continent,fillnan(dec) as dec,fillnan(inj) as inj,fillnan(deaths) as deaths,fillnan(affected) as affected from ini\")\n",
    "    DF.createOrReplaceTempView(\"dis\")\n",
    "    \n",
    "    sumaff=spark.sql(\"select DT,continent,dec,inj,deaths,fillaffected(inj,deaths,affected) as affected from dis\")\n",
    "    sumaff.createOrReplaceTempView(\"dis\")\n",
    "    sumall=spark.sql(\"select continent,DT,dec,ROUND(sum(inj)/(sum(affected)+0.001),3) as inj_prob,ROUND(sum(deaths)/(sum(affected)+0.001),3) as death_prob from dis group by DT,continent,dec\")\n",
    "\n",
    "    sumall.toPandas().to_csv(output_sql_ex3_path,index=False)\n",
    "    sc.stop()\n",
    "except Exception as e:\n",
    "    print(e)\n",
    "    sc.stop()"
   ]
  },
  {
   "cell_type": "code",
   "execution_count": null,
   "metadata": {},
   "outputs": [],
   "source": []
  }
 ],
 "metadata": {
  "kernelspec": {
   "display_name": "Python 3",
   "language": "python",
   "name": "python3"
  },
  "language_info": {
   "codemirror_mode": {
    "name": "ipython",
    "version": 3
   },
   "file_extension": ".py",
   "mimetype": "text/x-python",
   "name": "python",
   "nbconvert_exporter": "python",
   "pygments_lexer": "ipython3",
   "version": "3.7.3"
  }
 },
 "nbformat": 4,
 "nbformat_minor": 2
}
