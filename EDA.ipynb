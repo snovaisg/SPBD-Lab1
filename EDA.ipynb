{
 "cells": [
  {
   "cell_type": "code",
   "execution_count": 1,
   "metadata": {},
   "outputs": [],
   "source": [
    "from IPython.display import display\n",
    "import pandas as pd\n",
    "%matplotlib inline\n",
    "import matplotlib.pyplot as plt"
   ]
  },
  {
   "cell_type": "code",
   "execution_count": 2,
   "metadata": {},
   "outputs": [],
   "source": [
    "column_names = ['year','disaster_group', 'disaster_subgroup', \"disaster_type\", \"disaster_subtype\", \"continent\",\"region\", \"iso\",\"country_name\",\"occurrence\",\"Total deaths\",\"Injured\",\"Affected\",\"Homeless\",\"Total affected\", \"Total damage (K$)\"]\n",
    "data = pd.read_csv(\"../data/data_small.csv\",header=None,names=column_names)"
   ]
  },
  {
   "cell_type": "code",
   "execution_count": 3,
   "metadata": {},
   "outputs": [
    {
     "data": {
      "text/html": [
       "<div>\n",
       "<style scoped>\n",
       "    .dataframe tbody tr th:only-of-type {\n",
       "        vertical-align: middle;\n",
       "    }\n",
       "\n",
       "    .dataframe tbody tr th {\n",
       "        vertical-align: top;\n",
       "    }\n",
       "\n",
       "    .dataframe thead th {\n",
       "        text-align: right;\n",
       "    }\n",
       "</style>\n",
       "<table border=\"1\" class=\"dataframe\">\n",
       "  <thead>\n",
       "    <tr style=\"text-align: right;\">\n",
       "      <th></th>\n",
       "      <th>year</th>\n",
       "      <th>disaster_group</th>\n",
       "      <th>disaster_subgroup</th>\n",
       "      <th>disaster_type</th>\n",
       "      <th>disaster_subtype</th>\n",
       "      <th>continent</th>\n",
       "      <th>region</th>\n",
       "      <th>iso</th>\n",
       "      <th>country_name</th>\n",
       "      <th>occurrence</th>\n",
       "      <th>Total deaths</th>\n",
       "      <th>Injured</th>\n",
       "      <th>Affected</th>\n",
       "      <th>Homeless</th>\n",
       "      <th>Total affected</th>\n",
       "      <th>Total damage (K$)</th>\n",
       "    </tr>\n",
       "  </thead>\n",
       "  <tbody>\n",
       "    <tr>\n",
       "      <td>0</td>\n",
       "      <td>1900</td>\n",
       "      <td>Natural</td>\n",
       "      <td>Biological</td>\n",
       "      <td>Epidemic</td>\n",
       "      <td>Viral disease</td>\n",
       "      <td>Americas</td>\n",
       "      <td>Caribbean</td>\n",
       "      <td>JAM</td>\n",
       "      <td>Jamaica</td>\n",
       "      <td>1</td>\n",
       "      <td>30.0</td>\n",
       "      <td>NaN</td>\n",
       "      <td>NaN</td>\n",
       "      <td>NaN</td>\n",
       "      <td>NaN</td>\n",
       "      <td>NaN</td>\n",
       "    </tr>\n",
       "    <tr>\n",
       "      <td>1</td>\n",
       "      <td>1900</td>\n",
       "      <td>Natural</td>\n",
       "      <td>Climatological</td>\n",
       "      <td>Drought</td>\n",
       "      <td>Drought</td>\n",
       "      <td>Africa</td>\n",
       "      <td>Western Africa</td>\n",
       "      <td>CPV</td>\n",
       "      <td>Cabo Verde</td>\n",
       "      <td>1</td>\n",
       "      <td>11000.0</td>\n",
       "      <td>NaN</td>\n",
       "      <td>NaN</td>\n",
       "      <td>NaN</td>\n",
       "      <td>NaN</td>\n",
       "      <td>NaN</td>\n",
       "    </tr>\n",
       "    <tr>\n",
       "      <td>2</td>\n",
       "      <td>1900</td>\n",
       "      <td>Natural</td>\n",
       "      <td>Climatological</td>\n",
       "      <td>Drought</td>\n",
       "      <td>Drought</td>\n",
       "      <td>Asia</td>\n",
       "      <td>Southern Asia</td>\n",
       "      <td>IND</td>\n",
       "      <td>India</td>\n",
       "      <td>1</td>\n",
       "      <td>1250000.0</td>\n",
       "      <td>NaN</td>\n",
       "      <td>NaN</td>\n",
       "      <td>NaN</td>\n",
       "      <td>NaN</td>\n",
       "      <td>NaN</td>\n",
       "    </tr>\n",
       "    <tr>\n",
       "      <td>3</td>\n",
       "      <td>1900</td>\n",
       "      <td>Natural</td>\n",
       "      <td>Geophysical</td>\n",
       "      <td>Volcanic activity</td>\n",
       "      <td>Ash fall</td>\n",
       "      <td>Asia</td>\n",
       "      <td>Eastern Asia</td>\n",
       "      <td>JPN</td>\n",
       "      <td>Japan</td>\n",
       "      <td>1</td>\n",
       "      <td>30.0</td>\n",
       "      <td>NaN</td>\n",
       "      <td>NaN</td>\n",
       "      <td>NaN</td>\n",
       "      <td>NaN</td>\n",
       "      <td>NaN</td>\n",
       "    </tr>\n",
       "    <tr>\n",
       "      <td>4</td>\n",
       "      <td>1900</td>\n",
       "      <td>Natural</td>\n",
       "      <td>Hydrological</td>\n",
       "      <td>Flood</td>\n",
       "      <td>--</td>\n",
       "      <td>Americas</td>\n",
       "      <td>Caribbean</td>\n",
       "      <td>JAM</td>\n",
       "      <td>Jamaica</td>\n",
       "      <td>1</td>\n",
       "      <td>300.0</td>\n",
       "      <td>NaN</td>\n",
       "      <td>NaN</td>\n",
       "      <td>NaN</td>\n",
       "      <td>NaN</td>\n",
       "      <td>NaN</td>\n",
       "    </tr>\n",
       "  </tbody>\n",
       "</table>\n",
       "</div>"
      ],
      "text/plain": [
       "   year disaster_group disaster_subgroup      disaster_type disaster_subtype  \\\n",
       "0  1900        Natural        Biological           Epidemic    Viral disease   \n",
       "1  1900        Natural    Climatological            Drought          Drought   \n",
       "2  1900        Natural    Climatological            Drought          Drought   \n",
       "3  1900        Natural       Geophysical  Volcanic activity         Ash fall   \n",
       "4  1900        Natural      Hydrological              Flood               --   \n",
       "\n",
       "  continent          region  iso country_name  occurrence  Total deaths  \\\n",
       "0  Americas       Caribbean  JAM      Jamaica           1          30.0   \n",
       "1    Africa  Western Africa  CPV   Cabo Verde           1       11000.0   \n",
       "2      Asia   Southern Asia  IND        India           1     1250000.0   \n",
       "3      Asia    Eastern Asia  JPN        Japan           1          30.0   \n",
       "4  Americas       Caribbean  JAM      Jamaica           1         300.0   \n",
       "\n",
       "   Injured  Affected  Homeless  Total affected  Total damage (K$)  \n",
       "0      NaN       NaN       NaN             NaN                NaN  \n",
       "1      NaN       NaN       NaN             NaN                NaN  \n",
       "2      NaN       NaN       NaN             NaN                NaN  \n",
       "3      NaN       NaN       NaN             NaN                NaN  \n",
       "4      NaN       NaN       NaN             NaN                NaN  "
      ]
     },
     "metadata": {},
     "output_type": "display_data"
    },
    {
     "name": "stdout",
     "output_type": "stream",
     "text": [
      "n rows:  16273\n",
      "n cols:  16\n"
     ]
    }
   ],
   "source": [
    "display(data.head())\n",
    "print(\"n rows: \",data.shape[0])\n",
    "print(\"n cols: \",data.shape[1])"
   ]
  },
  {
   "cell_type": "code",
   "execution_count": 37,
   "metadata": {},
   "outputs": [
    {
     "data": {
      "text/plain": [
       "<matplotlib.axes._subplots.AxesSubplot at 0x7fe9fb9a12e8>"
      ]
     },
     "execution_count": 37,
     "metadata": {},
     "output_type": "execute_result"
    },
    {
     "data": {
      "image/png": "[encoded data removed]",
      "text/plain": [
       "<Figure size 432x288 with 1 Axes>"
      ]
     },
     "metadata": {
      "needs_background": "light"
     },
     "output_type": "display_data"
    }
   ],
   "source": [
    "deaths = data['Total affected'].dropna()\n",
    "deaths[deaths > 10].hist()"
   ]
  },
  {
   "cell_type": "code",
   "execution_count": 5,
   "metadata": {},
   "outputs": [
    {
     "name": "stdout",
     "output_type": "stream",
     "text": [
      "Americas  :  5227\n",
      "Africa  :  4913\n",
      "Asia  :  9932\n",
      "Europe  :  3026\n",
      "Oceania  :  746\n"
     ]
    }
   ],
   "source": [
    "for continent in data.continent.unique():\n",
    "    sum_ = data[data.continent == continent].occurrence.sum()\n",
    "    print(continent,\" : \",sum_)"
   ]
  },
  {
   "cell_type": "code",
   "execution_count": 10,
   "metadata": {},
   "outputs": [
    {
     "data": {
      "text/plain": [
       "0        1900\n",
       "1        1900\n",
       "2        1900\n",
       "3        1900\n",
       "4        1900\n",
       "         ... \n",
       "16268    2019\n",
       "16269    2019\n",
       "16270    2019\n",
       "16271    2019\n",
       "16272    2019\n",
       "Name: year, Length: 16273, dtype: int64"
      ]
     },
     "execution_count": 10,
     "metadata": {},
     "output_type": "execute_result"
    }
   ],
   "source": [
    "data.year"
   ]
  },
  {
   "cell_type": "code",
   "execution_count": 11,
   "metadata": {},
   "outputs": [
    {
     "data": {
      "text/html": [
       "<div>\n",
       "<style scoped>\n",
       "    .dataframe tbody tr th:only-of-type {\n",
       "        vertical-align: middle;\n",
       "    }\n",
       "\n",
       "    .dataframe tbody tr th {\n",
       "        vertical-align: top;\n",
       "    }\n",
       "\n",
       "    .dataframe thead th {\n",
       "        text-align: right;\n",
       "    }\n",
       "</style>\n",
       "<table border=\"1\" class=\"dataframe\">\n",
       "  <thead>\n",
       "    <tr style=\"text-align: right;\">\n",
       "      <th></th>\n",
       "      <th>year</th>\n",
       "      <th>disaster_group</th>\n",
       "      <th>disaster_subgroup</th>\n",
       "      <th>disaster_type</th>\n",
       "      <th>disaster_subtype</th>\n",
       "      <th>continent</th>\n",
       "      <th>region</th>\n",
       "      <th>iso</th>\n",
       "      <th>country_name</th>\n",
       "      <th>occurrence</th>\n",
       "      <th>Total deaths</th>\n",
       "      <th>Injured</th>\n",
       "      <th>Affected</th>\n",
       "      <th>Homeless</th>\n",
       "      <th>Total affected</th>\n",
       "      <th>Total damage (K$)</th>\n",
       "    </tr>\n",
       "  </thead>\n",
       "  <tbody>\n",
       "    <tr>\n",
       "      <td>1925</td>\n",
       "      <td>1975</td>\n",
       "      <td>Complex Disasters</td>\n",
       "      <td>Complex Disasters</td>\n",
       "      <td>Complex Disasters</td>\n",
       "      <td>Famine</td>\n",
       "      <td>Africa</td>\n",
       "      <td>Eastern Africa</td>\n",
       "      <td>COM</td>\n",
       "      <td>Comoros (the)</td>\n",
       "      <td>1</td>\n",
       "      <td>NaN</td>\n",
       "      <td>NaN</td>\n",
       "      <td>300000.0</td>\n",
       "      <td>NaN</td>\n",
       "      <td>300000.0</td>\n",
       "      <td>NaN</td>\n",
       "    </tr>\n",
       "  </tbody>\n",
       "</table>\n",
       "</div>"
      ],
      "text/plain": [
       "      year     disaster_group  disaster_subgroup      disaster_type  \\\n",
       "1925  1975  Complex Disasters  Complex Disasters  Complex Disasters   \n",
       "\n",
       "     disaster_subtype continent          region  iso   country_name  \\\n",
       "1925           Famine    Africa  Eastern Africa  COM  Comoros (the)   \n",
       "\n",
       "      occurrence  Total deaths  Injured  Affected  Homeless  Total affected  \\\n",
       "1925           1           NaN      NaN  300000.0       NaN        300000.0   \n",
       "\n",
       "      Total damage (K$)  \n",
       "1925                NaN  "
      ]
     },
     "execution_count": 11,
     "metadata": {},
     "output_type": "execute_result"
    }
   ],
   "source": [
    "data[(data.continent == 'Africa') & (data.disaster_type == 'Complex Disasters') & (data.year.astype(str).str.contains(\"197\"))]"
   ]
  },
  {
   "cell_type": "code",
   "execution_count": null,
   "metadata": {},
   "outputs": [],
   "source": []
  }
 ],
 "metadata": {
  "kernelspec": {
   "display_name": "Python 3",
   "language": "python",
   "name": "python3"
  },
  "language_info": {
   "codemirror_mode": {
    "name": "ipython",
    "version": 3
   },
   "file_extension": ".py",
   "mimetype": "text/x-python",
   "name": "python",
   "nbconvert_exporter": "python",
   "pygments_lexer": "ipython3",
   "version": "3.7.3"
  }
 },
 "nbformat": 4,
 "nbformat_minor": 4
}
